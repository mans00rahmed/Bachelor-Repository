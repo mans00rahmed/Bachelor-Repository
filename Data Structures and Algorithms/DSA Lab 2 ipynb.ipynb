{
 "cells": [
  {
   "cell_type": "code",
   "execution_count": 13,
   "metadata": {},
   "outputs": [
    {
     "name": "stdout",
     "output_type": "stream",
     "text": [
      "Enter number of columns: 2\n",
      "Enter number of rows: 2\n",
      "[0, 0]\n",
      "[0, 0]\n",
      "[[0, 0], [0, 0]]\n"
     ]
    }
   ],
   "source": [
    "class array:\n",
    "    def set_val(self):\n",
    "        cols=int(input('Enter number of columns: '))\n",
    "        rows=int(input('Enter number of rows: '))\n",
    "        x=int(input('Enter the value you want to enter: '))\n",
    "        arr = [ [x] * cols] * rows\n",
    "        return arr\n",
    "    def print_val(self):\n",
    "        print(self.set_val())\n",
    "\n",
    "    def set_val2(self):\n",
    "        cols2=int(input('Enter number of columns: '))\n",
    "        rows2=int(input('Enter number of rows: '))\n",
    "        arr2 = [ [0 for i in range(cols2)] for j in range(rows2)]\n",
    "        for i in range(rows2):\n",
    "            for j in range(cols2):\n",
    "                y = arr2[i][j]\n",
    "        for rows in arr2:\n",
    "            print(rows)\n",
    "        return arr2\n",
    " \n",
    "    def print_val2(self):\n",
    "        print(self.set_val2())\n",
    "\n",
    "task1=array()\n",
    "task1.print_val2()\n",
    "        "
   ]
  },
  {
   "cell_type": "code",
   "execution_count": null,
   "metadata": {},
   "outputs": [],
   "source": [
    "cols=2\n",
    "rows=2\n",
    "arr = [ [0] * cols] * rows\n",
    "print(arr)"
   ]
  },
  {
   "cell_type": "code",
   "execution_count": null,
   "metadata": {},
   "outputs": [],
   "source": [
    "cols=2\n",
    "rows=2\n",
    "arr = [ [1 for i in range(cols)] for j in range(rows)]\n",
    "print(arr)"
   ]
  },
  {
   "cell_type": "code",
   "execution_count": null,
   "metadata": {},
   "outputs": [],
   "source": []
  }
 ],
 "metadata": {
  "kernelspec": {
   "display_name": "Python 3",
   "language": "python",
   "name": "python3"
  }
 },
 "nbformat": 4,
 "nbformat_minor": 2
}
